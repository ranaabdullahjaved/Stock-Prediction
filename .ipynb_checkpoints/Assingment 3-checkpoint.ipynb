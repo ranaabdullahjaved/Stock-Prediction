{
 "cells": [
  {
   "cell_type": "code",
   "execution_count": 2,
   "id": "9f5b1634-a991-43ab-a806-6b3711044096",
   "metadata": {},
   "outputs": [],
   "source": [
    "class NeuralNetwork:\n",
    "    def __init__(self, x, y):\n",
    "        self.input      = x\n",
    "        self.weights1   = [[random.random() for _ in range(len(x[0]))] for _ in range(5)]\n",
    "        self.weights2   = [[random.random() for _ in range(5)] for _ in range(len(y[0]))]\n",
    "        self.y          = y\n",
    "        self.output     = [[0 for _ in range(len(y[0]))] for _ in range(len(y))]\n",
    "\n",
    "    def feedforward(self):\n",
    "        self.layer1 = self.sigmoid(self.input, self.weights1)\n",
    "        self.output = self.sigmoid(self.layer1, self.weights2)\n",
    "\n",
    "    def backprop(self):\n",
    "        d_weights2 = [ [0 for _ in range(5)] for _ in range(len(self.y[0]))]\n",
    "        d_weights1 = [ [0 for _ in range(len(self.input[0]))] for _ in range(5)]\n",
    "        d_layer1   = [0 for _ in range(5)]\n",
    "        d_input    = [0 for _ in range(len(self.input[0]))]\n",
    "\n",
    "        for j in range(len(self.y)):\n",
    "            for k in range(len(self.y[0])):\n",
    "                d_output = 2*(self.y[j][k] - self.output[j][k])\n",
    "                for i in range(5):\n",
    "                    d_weights2[k][i] += d_output * self.layer1[j][i]\n",
    "                    d_layer1[i] += d_output * self.weights2[k][i]\n",
    "\n",
    "            for i in range(5):\n",
    "                for l in range(len(self.input[0])):\n",
    "                    d_weights1[i][l] += d_layer1[i] * self.input[j][l]\n",
    "                    d_input[l] += d_layer1[i] * self.weights1[i][l]\n",
    "\n",
    "        for i in range(len(self.weights2)):\n",
    "            for j in range(len(self.weights2[0])):\n",
    "                self.weights2[i][j] += 0.1 * d_weights2[i][j]\n",
    "\n",
    "        for i in range(len(self.weights1)):\n",
    "            for j in range(len(self.weights1[0])):\n",
    "                self.weights1[i][j] += 0.1 * d_weights1[i][j]\n",
    "\n",
    "    def sigmoid(self, x, w):\n",
    "        return [1 / (1 + math.exp(-sum([x[i] * w[j][i] for i in range(len(x))]))) for j in range(len(w))]\n",
    "\n",
    "    def train(self):\n",
    "        for _ in range(500):\n",
    "            self.feedforward()\n",
    "            self.backprop()\n",
    "\n",
    "    def predict(self, x):\n",
    "        layer1 = self.sigmoid(x, self.weights1)\n",
    "        output = self.sigmoid(layer1, self.weights2)\n",
    "        return output"
   ]
  }
 ],
 "metadata": {
  "kernelspec": {
   "display_name": "Python 3 (ipykernel)",
   "language": "python",
   "name": "python3"
  },
  "language_info": {
   "codemirror_mode": {
    "name": "ipython",
    "version": 3
   },
   "file_extension": ".py",
   "mimetype": "text/x-python",
   "name": "python",
   "nbconvert_exporter": "python",
   "pygments_lexer": "ipython3",
   "version": "3.11.7"
  }
 },
 "nbformat": 4,
 "nbformat_minor": 5
}
